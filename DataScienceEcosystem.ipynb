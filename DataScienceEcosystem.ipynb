{
  "nbformat": 4,
  "nbformat_minor": 0,
  "metadata": {
    "colab": {
      "provenance": []
    },
    "kernelspec": {
      "name": "python3",
      "display_name": "Python 3"
    },
    "language_info": {
      "name": "python"
    }
  },
  "cells": [
    {
      "cell_type": "markdown",
      "source": [
        "Data Science Tools and Ecosystem\n",
        "\n",
        "---\n",
        "In this notebook, Data Science Tools and Ecosystem are summarized."
      ],
      "metadata": {
        "id": "U4nVht4aJINn"
      }
    },
    {
      "cell_type": "markdown",
      "source": [
        "Some of the popular languages that Data Scientists use are:\n",
        "\n",
        "\n",
        "*   Pythone\n",
        "*   c++\n",
        "*   julia"
      ],
      "metadata": {
        "id": "7tcT12ZdLqT5"
      }
    },
    {
      "cell_type": "markdown",
      "source": [
        "Some of the commonly used libraries used by Data Scientists include:\n",
        "\n",
        "\n",
        "1.   Sickiet learn\n",
        "2.   pandas\n",
        "3.   numpy\n",
        "4.   TensorFlow.\n",
        "5.  SciPy.\n",
        "6.  Pandas.\n",
        "7.  Matplotlib.\n",
        "8. Keras.\n",
        "9.  PyTorch.\n",
        "10.  Scrapy."
      ],
      "metadata": {
        "id": "kOdMFgciL8Qk"
      }
    },
    {
      "cell_type": "markdown",
      "source": [
        "Data Science Tools:\n",
        "1. SAS. \n",
        "2.  Apache Spark\t\t\n",
        "3.  BigML\n"
      ],
      "metadata": {
        "id": "hei8OSq-MThg"
      }
    },
    {
      "cell_type": "markdown",
      "source": [
        "Below are a few examples of evaluating arithmetic expressions in Python"
      ],
      "metadata": {
        "id": "kvGEcqZnR9NI"
      }
    },
    {
      "cell_type": "code",
      "source": [
        " b=3\n",
        " a=4\n",
        " c=5\n",
        "print (a*b+c)\n"
      ],
      "metadata": {
        "colab": {
          "base_uri": "https://localhost:8080/"
        },
        "id": "36gX-a08NOqP",
        "outputId": "c389149d-57ec-485d-8801-000d631ad6de"
      },
      "execution_count": 10,
      "outputs": [
        {
          "output_type": "stream",
          "name": "stdout",
          "text": [
            "17\n"
          ]
        }
      ]
    },
    {
      "cell_type": "code",
      "source": [
        "days = 0\n",
        "hours = 0\n",
        "mins = 0\n",
        "time = 200\n",
        "#days = time / 1440\n",
        "leftover_minutes = time % 1440\n",
        "hours = leftover_minutes / 60\n",
        "#mins = time - (days*1440) - (hours*60)\n",
        "print(str(days) + \" days, \" + str(hours) + \" hours, \" + str(mins) +  \" mins. \")"
      ],
      "metadata": {
        "colab": {
          "base_uri": "https://localhost:8080/"
        },
        "id": "psqXfmEaRml9",
        "outputId": "069dee10-20d7-4a83-d0fa-0c1f36022be2"
      },
      "execution_count": 11,
      "outputs": [
        {
          "output_type": "stream",
          "name": "stdout",
          "text": [
            "0 days, 3.3333333333333335 hours, 0 mins. \n"
          ]
        }
      ]
    },
    {
      "cell_type": "markdown",
      "source": [
        "Below the introduction cell created in Exercise 3, insert a new markdown cell to list the objectives that this notebook covered (i.e. some of the key takeaways from the course). In this new cell start with an introductory line titled: Objectives: in bold font. Then using an unordered list (bullets) indicate 3 to 5 items covered in this notebook, such as List popular languages for Data Science."
      ],
      "metadata": {
        "id": "DWZqxIaxSp0U"
      }
    },
    {
      "cell_type": "markdown",
      "source": [
        "**Author:**\n",
        "\n",
        "Lakshmi Holla\n",
        "\n",
        "Niveditha Pandith"
      ],
      "metadata": {
        "id": "391sXZ0ZTSUo"
      }
    }
  ]
}